{
  "nbformat": 4,
  "nbformat_minor": 0,
  "metadata": {
    "colab": {
      "provenance": [],
      "authorship_tag": "ABX9TyPkCLXXVMWRYD72nMTe50mj",
      "include_colab_link": true
    },
    "kernelspec": {
      "name": "python3",
      "display_name": "Python 3"
    },
    "language_info": {
      "name": "python"
    }
  },
  "cells": [
    {
      "cell_type": "markdown",
      "metadata": {
        "id": "view-in-github",
        "colab_type": "text"
      },
      "source": [
        "<a href=\"https://colab.research.google.com/github/Ahtesham-Ibne-Mostafa/CodeForcees_Wars/blob/main/Codeforces_Round_881_(Div_3).ipynb\" target=\"_parent\"><img src=\"https://colab.research.google.com/assets/colab-badge.svg\" alt=\"Open In Colab\"/></a>"
      ]
    },
    {
      "cell_type": "markdown",
      "source": [
        "Sasha found an array a\n",
        " consisting of n\n",
        " integers and asked you to paint elements.\n",
        "\n",
        "You have to paint each element of the array. You can use as many colors as you want, but each element should be painted into exactly one color, and for each color, there should be at least one element of that color.\n",
        "\n",
        "The cost of one color is the value of max(S)−min(S)\n",
        ", where S\n",
        " is the sequence of elements of that color. The cost of the whole coloring is the sum of costs over all colors.\n",
        "\n",
        "For example, suppose you have an array a=[1,5,6,3,4]\n",
        ", and you painted its elements into two colors as follows: elements on positions 1\n",
        ", 2\n",
        " and 5\n",
        " have color 1\n",
        "; elements on positions 3\n",
        " and 4\n",
        " have color 2\n",
        ". Then:\n",
        "\n",
        "the cost of the color 1\n",
        " is max([1,5,4])−min([1,5,4])=5−1=4\n",
        ";\n",
        "the cost of the color 2\n",
        " is max([6,3])−min([6,3])=6−3=3\n",
        ";\n",
        "the total cost of the coloring is 7\n",
        ".\n",
        "For the given array a\n",
        ", you have to calculate the maximum possible cost of the coloring.\n",
        "\n",
        "Input\n",
        "The first line contains one integer t\n",
        " (1≤t≤1000\n",
        ") — the number of test cases.\n",
        "\n",
        "The first line of each test case contains a single integer n\n",
        " (1≤n≤50\n",
        ") — length of a\n",
        ".\n",
        "\n",
        "The second line contains n\n",
        " integers a1,a2,…,an\n",
        " (1≤ai≤50\n",
        ") — array a\n",
        ".\n",
        "\n",
        "Output\n",
        "For each test case output the maximum possible cost of the coloring."
      ],
      "metadata": {
        "id": "GVs_bqUAPe4q"
      }
    },
    {
      "cell_type": "code",
      "execution_count": null,
      "metadata": {
        "id": "JP68aB-fO135"
      },
      "outputs": [],
      "source": [
        "for i in range(int(input())):\n",
        "    l=int(input())\n",
        "\n",
        "    a=sorted(list(map(int, input().split())))\n",
        "    sum=0\n",
        "    j=-1\n",
        "    for i in range(l//2):\n",
        "        su += a[j]-a[i]\n",
        "        j-=1\n",
        "    print(su)"
      ]
    },
    {
      "cell_type": "markdown",
      "source": [
        "Today Alex was brought array a1,a2,…,an\n",
        " of length n\n",
        ". He can apply as many operations as he wants (including zero operations) to change the array elements.\n",
        "\n",
        "In 1\n",
        " operation Alex can choose any l\n",
        " and r\n",
        " such that 1≤l≤r≤n\n",
        ", and multiply all elements of the array from l\n",
        " to r\n",
        " inclusive by −1\n",
        ". In other words, Alex can replace the subarray [al,al+1,…,ar]\n",
        " by [−al,−al+1,…,−ar]\n",
        " in 1\n",
        " operation.\n",
        "\n",
        "For example, let n=5\n",
        ", the array is [1,−2,0,3,−1]\n",
        ", l=2\n",
        " and r=4\n",
        ", then after the operation the array will be [1,2,0,−3,−1]\n",
        ".\n",
        "\n",
        "Alex is late for school, so you should help him find the maximum possible sum of numbers in the array, which can be obtained by making any number of operations, as well as the minimum number of operations that must be done for this.\n",
        "\n",
        "Input\n",
        "The first line contains a single integer t\n",
        " (1≤t≤104\n",
        ") — number of test cases. Then the descriptions of the test cases follow.\n",
        "\n",
        "The first line of each test case contains one integer n\n",
        " (1≤n≤2⋅105\n",
        ") — length of the array.\n",
        "\n",
        "The second line contains n\n",
        " integers a1,a2,…,an\n",
        " (−109≤ai≤109\n",
        ") — elements of the array.\n",
        "\n",
        "It is guaranteed that the sum of n\n",
        " for all test cases does not exceed 2⋅105\n",
        ".\n",
        "\n",
        "Output\n",
        "For each test case output two space-separated numbers: the maximum possible sum of numbers in the array and the minimum number of operations to get this sum.\n",
        "\n",
        "Pay attention that an answer may not fit in a standard integer type, so do not forget to use 64-bit integer type."
      ],
      "metadata": {
        "id": "h76MdcNOVy-O"
      }
    },
    {
      "cell_type": "code",
      "source": [
        "for i in range(int(input())):\n",
        "    l=int(input())\n",
        "    a=list(map(int, input().split()))\n",
        "    i=0\n",
        "    j=l-1\n",
        "    count=0\n",
        "    while i!= j and i< l-1:\n",
        "        if a[i]<0:\n",
        "            count+=1\n",
        "            for k in range(j,-1,-1):\n",
        "                if a[k]<0:\n",
        "                    j=k\n",
        "                    break\n",
        "            for k in range(i,j+1):\n",
        "                a[k]=a[k]*(-1)\n",
        "        i+=1\n",
        "    print(sum(a),count)\n",
        "\n"
      ],
      "metadata": {
        "colab": {
          "base_uri": "https://localhost:8080/"
        },
        "id": "bIw40q-7RqA6",
        "outputId": "499dfb3f-2c09-4d82-addb-2dbb917a20c7"
      },
      "execution_count": null,
      "outputs": [
        {
          "output_type": "stream",
          "name": "stdout",
          "text": [
            "5\n",
            "6\n",
            "-1 7 -4 -2 5 -8\n",
            "27 3\n",
            "8\n",
            "-1 0 0 -2 1 0 -3 0\n",
            "7 2\n",
            "5\n",
            "2 -1 0 -3 -7\n",
            "13 1\n",
            "5\n",
            "0 -17 0 1 0\n",
            "18 1\n",
            "4\n",
            "-1 0 -2 -1\n",
            "4 1\n"
          ]
        }
      ]
    },
    {
      "cell_type": "code",
      "source": [
        "def max_sum_with_operations(array, n):\n",
        "  \"\"\"\n",
        "  This function takes an array and its length as input and returns the maximum possible sum of the array elements, which can be obtained by making any number of operations, as well as the minimum number of operations that must be done for this.\n",
        "\n",
        "  Args:\n",
        "    array: An array of numbers.\n",
        "    n: The length of the array.\n",
        "\n",
        "  Returns:\n",
        "    A tuple of two numbers: the maximum sum and the minimum number of operations.\n",
        "  \"\"\"\n",
        "\n",
        "  max_sum = 0\n",
        "  min_operations = 0\n",
        "  for i in range(n):\n",
        "    max_sum = max(max_sum, array[i])\n",
        "    if array[i] < 0:\n",
        "      min_operations = min(min_operations, abs(array[i]) + 1)\n",
        "\n",
        "  for i in range(1, n + 1):\n",
        "    max_sum_with_negation = 0\n",
        "    current_operations = 0\n",
        "    for j in range(n):\n",
        "      array_element = array[j]\n",
        "      if j >= i:\n",
        "        array_element *= -1\n",
        "      max_sum_with_negation = max(max_sum_with_negation, max_sum - array_element)\n",
        "      current_operations = min(current_operations, min_operations + abs(array_element) - 1)\n",
        "\n",
        "    max_sum = max(max_sum, max_sum_with_negation)\n",
        "    min_operations = min(min_operations, current_operations)\n",
        "\n",
        "  return max_sum, min_operations\n",
        "\n",
        "\n",
        "def main():\n",
        "  t = int(input())\n",
        "  for _ in range(t):\n",
        "    n = int(input())\n",
        "    array = list(map(int, input().split()))\n",
        "    max_sum, min_operations = max_sum_with_operations(array, n)\n",
        "    print(max_sum, min_operations)\n",
        "\n",
        "if __name__ == \"__main__\":\n",
        "  main()"
      ],
      "metadata": {
        "id": "AGiX1oGpaGve"
      },
      "execution_count": null,
      "outputs": []
    },
    {
      "cell_type": "code",
      "source": [],
      "metadata": {
        "id": "M7X1kPg3aKbB"
      },
      "execution_count": null,
      "outputs": []
    }
  ]
}