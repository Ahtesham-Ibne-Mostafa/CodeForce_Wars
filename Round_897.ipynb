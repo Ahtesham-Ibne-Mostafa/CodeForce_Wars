{
  "nbformat": 4,
  "nbformat_minor": 0,
  "metadata": {
    "colab": {
      "provenance": [],
      "authorship_tag": "ABX9TyOevGUXc23cipO5cAWd1c9D",
      "include_colab_link": true
    },
    "kernelspec": {
      "name": "python3",
      "display_name": "Python 3"
    },
    "language_info": {
      "name": "python"
    }
  },
  "cells": [
    {
      "cell_type": "markdown",
      "metadata": {
        "id": "view-in-github",
        "colab_type": "text"
      },
      "source": [
        "<a href=\"https://colab.research.google.com/github/Ahtesham-Ibne-Mostafa/CodeForcees_Wars/blob/main/Round_897.ipynb\" target=\"_parent\"><img src=\"https://colab.research.google.com/assets/colab-badge.svg\" alt=\"Open In Colab\"/></a>"
      ]
    },
    {
      "cell_type": "code",
      "execution_count": 1,
      "metadata": {
        "colab": {
          "base_uri": "https://localhost:8080/",
          "height": 453
        },
        "id": "EpBo3qNisE2H",
        "outputId": "124f0bb5-ccfd-4319-c873-cd8ad0950490"
      },
      "outputs": [
        {
          "name": "stdout",
          "output_type": "stream",
          "text": [
            "3\n",
            "1\n",
            "100000\n",
            "100000\n",
            "2\n",
            "1 1\n"
          ]
        },
        {
          "output_type": "error",
          "ename": "IndexError",
          "evalue": "ignored",
          "traceback": [
            "\u001b[0;31m---------------------------------------------------------------------------\u001b[0m",
            "\u001b[0;31mIndexError\u001b[0m                                Traceback (most recent call last)",
            "\u001b[0;32m<ipython-input-1-54dc58f8e571>\u001b[0m in \u001b[0;36m<cell line: 37>\u001b[0;34m()\u001b[0m\n\u001b[1;32m     41\u001b[0m \u001b[0;34m\u001b[0m\u001b[0m\n\u001b[1;32m     42\u001b[0m     \u001b[0;31m# Find and print the suitable permutation b\u001b[0m\u001b[0;34m\u001b[0m\u001b[0;34m\u001b[0m\u001b[0m\n\u001b[0;32m---> 43\u001b[0;31m     \u001b[0mresult\u001b[0m \u001b[0;34m=\u001b[0m \u001b[0mfind_permutation\u001b[0m\u001b[0;34m(\u001b[0m\u001b[0mn\u001b[0m\u001b[0;34m,\u001b[0m \u001b[0ma\u001b[0m\u001b[0;34m)\u001b[0m\u001b[0;34m\u001b[0m\u001b[0;34m\u001b[0m\u001b[0m\n\u001b[0m\u001b[1;32m     44\u001b[0m     \u001b[0mprint\u001b[0m\u001b[0;34m(\u001b[0m\u001b[0;34m\" \"\u001b[0m\u001b[0;34m.\u001b[0m\u001b[0mjoin\u001b[0m\u001b[0;34m(\u001b[0m\u001b[0mmap\u001b[0m\u001b[0;34m(\u001b[0m\u001b[0mstr\u001b[0m\u001b[0;34m,\u001b[0m \u001b[0mresult\u001b[0m\u001b[0;34m)\u001b[0m\u001b[0;34m)\u001b[0m\u001b[0;34m)\u001b[0m\u001b[0;34m\u001b[0m\u001b[0;34m\u001b[0m\u001b[0m\n",
            "\u001b[0;32m<ipython-input-1-54dc58f8e571>\u001b[0m in \u001b[0;36mfind_permutation\u001b[0;34m(n, a)\u001b[0m\n\u001b[1;32m     21\u001b[0m         \u001b[0;32mif\u001b[0m \u001b[0mfreq_a\u001b[0m\u001b[0;34m[\u001b[0m\u001b[0ma\u001b[0m\u001b[0;34m[\u001b[0m\u001b[0mi\u001b[0m\u001b[0;34m]\u001b[0m\u001b[0;34m]\u001b[0m \u001b[0;34m>\u001b[0m \u001b[0;36m1\u001b[0m\u001b[0;34m:\u001b[0m\u001b[0;34m\u001b[0m\u001b[0;34m\u001b[0m\u001b[0m\n\u001b[1;32m     22\u001b[0m             \u001b[0;31m# If there are multiple occurrences of a number, place it in the last available position in b\u001b[0m\u001b[0;34m\u001b[0m\u001b[0;34m\u001b[0m\u001b[0m\n\u001b[0;32m---> 23\u001b[0;31m             \u001b[0;32mwhile\u001b[0m \u001b[0mfreq_a\u001b[0m\u001b[0;34m[\u001b[0m\u001b[0ma\u001b[0m\u001b[0;34m[\u001b[0m\u001b[0mindex\u001b[0m\u001b[0;34m]\u001b[0m\u001b[0;34m]\u001b[0m \u001b[0;34m>\u001b[0m \u001b[0;36m0\u001b[0m\u001b[0;34m:\u001b[0m\u001b[0;34m\u001b[0m\u001b[0;34m\u001b[0m\u001b[0m\n\u001b[0m\u001b[1;32m     24\u001b[0m                 \u001b[0mindex\u001b[0m \u001b[0;34m-=\u001b[0m \u001b[0;36m1\u001b[0m\u001b[0;34m\u001b[0m\u001b[0;34m\u001b[0m\u001b[0m\n\u001b[1;32m     25\u001b[0m             \u001b[0mb\u001b[0m\u001b[0;34m[\u001b[0m\u001b[0mi\u001b[0m\u001b[0;34m]\u001b[0m \u001b[0;34m=\u001b[0m \u001b[0ma\u001b[0m\u001b[0;34m[\u001b[0m\u001b[0mindex\u001b[0m\u001b[0;34m]\u001b[0m\u001b[0;34m\u001b[0m\u001b[0;34m\u001b[0m\u001b[0m\n",
            "\u001b[0;31mIndexError\u001b[0m: list index out of range"
          ]
        }
      ],
      "source": [
        "def find_permutation(n, a):\n",
        "    # Sort the input array a in ascending order\n",
        "    a.sort()\n",
        "\n",
        "    # Initialize a permutation array b with values from 1 to n\n",
        "    b = list(range(1, n + 1))\n",
        "\n",
        "    # Create a dictionary to store the frequency of each element in a\n",
        "    freq_a = {}\n",
        "    for num in a:\n",
        "        if num in freq_a:\n",
        "            freq_a[num] += 1\n",
        "        else:\n",
        "            freq_a[num] = 1\n",
        "\n",
        "    # Initialize an index to track the position of the largest element\n",
        "    index = n - 1\n",
        "\n",
        "    # Iterate through b and fill it with values from a while maintaining the maximum distinct differences\n",
        "    for i in range(n):\n",
        "        if freq_a[a[i]] > 1:\n",
        "            # If there are multiple occurrences of a number, place it in the last available position in b\n",
        "            while freq_a[a[index]] > 0:\n",
        "                index -= 1\n",
        "            b[i] = a[index]\n",
        "            freq_a[a[index]] += 1\n",
        "            index -= 1\n",
        "        else:\n",
        "            # If there is only one occurrence of a number, place it in the corresponding position in b\n",
        "            b[i] = a[i]\n",
        "\n",
        "    return b\n",
        "\n",
        "# Read the number of test cases\n",
        "t = int(input())\n",
        "\n",
        "for _ in range(t):\n",
        "    # Read input for each test case\n",
        "    n = int(input())\n",
        "    a = list(map(int, input().split()))\n",
        "\n",
        "    # Find and print the suitable permutation b\n",
        "    result = find_permutation(n, a)\n",
        "    print(\" \".join(map(str, result)))\n"
      ]
    },
    {
      "cell_type": "code",
      "source": [
        "def is_good_number(binary_str):\n",
        "    # Check if a binary number is good\n",
        "    return binary_str == binary_str[::-1]\n",
        "\n",
        "def solve(test_cases):\n",
        "    results = []\n",
        "\n",
        "    for n, s in test_cases:\n",
        "        ones_count = s.count('1')\n",
        "        result = ['0'] * (n + 1)\n",
        "\n",
        "        for i in range(ones_count + 1):\n",
        "            x = i\n",
        "            y = ones_count - i\n",
        "            if x <= y:\n",
        "                if (x % 2 == 0 and is_good_number(s[:x])):\n",
        "                    result[i] = '1'\n",
        "            else:\n",
        "                if (y % 2 == 0 and is_good_number(s[:y])):\n",
        "                    result[i] = '1'\n",
        "\n",
        "        results.append(''.join(result))\n",
        "\n",
        "    return results\n",
        "\n",
        "# Read the number of test cases\n",
        "t = int(input())\n",
        "\n",
        "test_cases = []\n",
        "\n",
        "# Read input for each test case\n",
        "for _ in range(t):\n",
        "    n = int(input())\n",
        "    s = input().strip()\n",
        "    test_cases.append((n, s))\n",
        "\n",
        "# Solve the problem for the test cases\n",
        "results = solve(test_cases)\n",
        "\n",
        "# Print the results\n",
        "for result in results:\n",
        "    print(result)\n"
      ],
      "metadata": {
        "colab": {
          "base_uri": "https://localhost:8080/"
        },
        "id": "dIlD4ldDz47B",
        "outputId": "4c7fa3f5-4625-43bd-8cf3-b6faa354c482"
      },
      "execution_count": 1,
      "outputs": [
        {
          "output_type": "stream",
          "name": "stdout",
          "text": [
            "5\n",
            "6\n",
            "101011\n",
            "5\n",
            "00000\n",
            "9\n",
            "100100011\n",
            "3\n",
            "100\n",
            "1\n",
            "1\n",
            "1000100\n",
            "100000\n",
            "1000100000\n",
            "1100\n",
            "11\n"
          ]
        }
      ]
    },
    {
      "cell_type": "code",
      "source": [],
      "metadata": {
        "id": "M3YLDH6dz_iA"
      },
      "execution_count": null,
      "outputs": []
    }
  ]
}