{
  "nbformat": 4,
  "nbformat_minor": 0,
  "metadata": {
    "colab": {
      "provenance": [],
      "authorship_tag": "ABX9TyODotf2ePdBpHn341PXfn7o",
      "include_colab_link": true
    },
    "kernelspec": {
      "name": "python3",
      "display_name": "Python 3"
    },
    "language_info": {
      "name": "python"
    }
  },
  "cells": [
    {
      "cell_type": "markdown",
      "metadata": {
        "id": "view-in-github",
        "colab_type": "text"
      },
      "source": [
        "<a href=\"https://colab.research.google.com/github/Ahtesham-Ibne-Mostafa/CodeForcees_Wars/blob/main/Code_Forces_880_.ipynb\" target=\"_parent\"><img src=\"https://colab.research.google.com/assets/colab-badge.svg\" alt=\"Open In Colab\"/></a>"
      ]
    },
    {
      "cell_type": "markdown",
      "source": [
        "A. Destroyer\n",
        "time limit per test\n",
        "1 second\n",
        "memory limit per test\n",
        "256 megabytes\n",
        "input\n",
        "standard input\n",
        "output\n",
        "standard output\n",
        "\n",
        "John is a lead programmer on a destroyer belonging to the space navy of the Confederacy of Independent Operating Systems. One of his tasks is checking if the electronic brains of robots were damaged during battles.\n",
        "\n",
        "A standard test is to order the robots to form one or several lines, in each line the robots should stand one after another. After that, each robot reports the number of robots standing in front of it it its line.\n",
        "An example of robots' arrangement (the front of the lines is on the left). The robots report the numbers above.\n",
        "\n",
        "The i\n",
        "-th robot reported number li\n",
        "\n",
        ". Unfortunately, John does not know which line each robot stands in, and can't check the reported numbers. Please determine if it is possible to form the lines in such a way that all reported numbers are correct, or not.\n",
        "Input\n",
        "\n",
        "The first line contains a single integer t\n",
        "(1≤t≤100\n",
        "\n",
        "), denoting the number of test cases.\n",
        "\n",
        "The first line in each test case contains a single integer n\n",
        "(1≤n≤100\n",
        "\n",
        ") — the number of robots.\n",
        "\n",
        "The second line in each test case contains n\n",
        "integers l1,l2,…,ln (0≤li<100), li is equal to the number of robots in front of the i\n",
        "\n",
        "-th robot in its line.\n",
        "\n",
        "The sum of n\n",
        "over all test cases won't exceed 200\n",
        "\n",
        ".\n",
        "Output\n",
        "\n",
        "For each test case, output \"YES\", if there exists a robot arrangement consistent with robots' reports. Otherwise, output \"NO\".\n",
        "\n",
        "You can output the answer in any case (upper or lower). For example, the strings \"yEs\", \"yes\", \"Yes\", and \"YES\" will be recognized as positive responses."
      ],
      "metadata": {
        "id": "mFJSJMLx8o7N"
      }
    },
    {
      "cell_type": "code",
      "execution_count": 18,
      "metadata": {
        "colab": {
          "base_uri": "https://localhost:8080/"
        },
        "id": "lrJlLSJ88hek",
        "outputId": "928179c3-f17d-48e4-cfd3-88af98720f4f"
      },
      "outputs": [
        {
          "output_type": "stream",
          "name": "stdout",
          "text": [
            "5\n",
            "6\n",
            "0 1 2 0 1 0\n",
            "[0, 0, 0, 1, 1, 2]\n",
            "YES\n",
            "9\n",
            "0 0 0 0 1 1 1 1 2 2\n",
            "[0, 0, 0, 0, 1, 1, 1, 1, 2, 2]\n",
            "NO\n",
            "9\n",
            "0 0 0 0 1 1 1 2 2\n",
            "[0, 0, 0, 0, 1, 1, 1, 2, 2]\n",
            "YES\n",
            "3\n",
            "0 0 2\n",
            "[0, 0, 2]\n",
            "NO\n",
            "1\n",
            "99\n",
            "[99]\n",
            "NO\n"
          ]
        }
      ],
      "source": [
        "t=int(input())\n",
        "for i in range(t):\n",
        "    f='YES'\n",
        "    n=int(input())\n",
        "    l=sorted(list(map(int, input().split())))\n",
        "    if n == len(l) and l[0]==0:\n",
        "        for i in range(n-1):\n",
        "            if l[i]==l[i+1]:\n",
        "                pass\n",
        "            elif l[i]==l[i+1]-1:\n",
        "                pass\n",
        "            else:\n",
        "                f='NO'\n",
        "                break\n",
        "    else:\n",
        "        f=\"NO\"\n",
        "    print(f)\n",
        "\n"
      ]
    }
  ]
}
